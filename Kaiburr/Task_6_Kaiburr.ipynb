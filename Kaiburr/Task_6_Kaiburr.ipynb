{
  "nbformat": 4,
  "nbformat_minor": 0,
  "metadata": {
    "colab": {
      "provenance": [],
      "gpuType": "T4"
    },
    "kernelspec": {
      "name": "python3",
      "display_name": "Python 3"
    },
    "language_info": {
      "name": "python"
    },
    "accelerator": "GPU"
  },
  "cells": [
    {
      "cell_type": "code",
      "source": [
        "# Import necessary libraries\n",
        "import pandas as pd\n",
        "from sklearn.model_selection import train_test_split\n",
        "from sklearn.feature_extraction.text import TfidfVectorizer\n",
        "from sklearn.preprocessing import LabelEncoder\n",
        "from sklearn.naive_bayes import MultinomialNB\n",
        "from sklearn.metrics import classification_report, accuracy_score\n",
        "\n",
        "# Load the data from a CSV file\n",
        "data = pd.read_csv('/content/drive/MyDrive/Task-6/complaints.csv')\n",
        "\n",
        "# Select relevant parameters\n",
        "finaldata = data[['Product', 'Consumer complaint narrative']]\n",
        "\n",
        "# Remove columns with NaN or null values\n",
        "finaldata.dropna(axis=1)\n",
        "\n",
        "# Encode the target labels\n",
        "label_encoder = LabelEncoder()\n",
        "finaldata['Product'] = label_encoder.fit_transform(finaldata['Product'])\n",
        "\n",
        "# Split the dataset into training and testing sets\n",
        "X = finaldata['Consumer complaint narrative']\n",
        "y = finaldata['Product']\n",
        "X_train, X_test, y_train, y_test = train_test_split(X, y, test_size=0.2, random_state=42)\n",
        "\n",
        "# Feature Extraction using TF-IDF\n",
        "tfidf_vectorizer = TfidfVectorizer(max_features=5000, stop_words='english')\n",
        "X_train = X_train.fillna('')\n",
        "X_train_tfidf = tfidf_vectorizer.fit_transform(X_train)\n",
        "X_test = X_test.fillna('')\n",
        "X_test_tfidf = tfidf_vectorizer.transform(X_test)\n",
        "\n",
        "# Train the multinomial naive Bayes classifier\n",
        "classifier = MultinomialNB()\n",
        "classifier.fit(X_train_tfidf, y_train)\n",
        "\n",
        "# Make predictions on the test set\n",
        "y_pred = classifier.predict(X_test_tfidf)\n",
        "\n",
        "# Model Evaluation\n",
        "accuracy = accuracy_score(y_test, y_pred)\n",
        "classification_rep = classification_report(y_test, y_pred, target_names=label_encoder.classes_)\n",
        "\n",
        "# Print the accuracy and classification report\n",
        "print(f'Accuracy: {accuracy:.2f}')\n",
        "MultiNomialNB_acc = accuracy\n",
        "print(MultiNomialNB_acc)\n",
        "print(classification_rep)\n",
        "\n",
        "# Prediction\n",
        "new_complaint = [\"I have an issue with my credit report.\"]\n",
        "new_complaint_tfidf = tfidf_vectorizer.transform(new_complaint)\n",
        "predicted_category = label_encoder.inverse_transform(classifier.predict(new_complaint_tfidf))\n",
        "print(f'Predicted Category: {predicted_category[0]}')\n"
      ],
      "metadata": {
        "id": "wuKOMSWfLuSr"
      },
      "execution_count": null,
      "outputs": []
    }
  ]
}